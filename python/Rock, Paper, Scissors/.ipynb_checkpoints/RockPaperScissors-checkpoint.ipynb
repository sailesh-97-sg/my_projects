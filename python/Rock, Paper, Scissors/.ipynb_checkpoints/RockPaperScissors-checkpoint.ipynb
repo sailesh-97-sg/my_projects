{
 "cells": [
  {
   "cell_type": "code",
   "execution_count": 4,
   "id": "7484ba97",
   "metadata": {},
   "outputs": [],
   "source": [
    "import random"
   ]
  },
  {
   "cell_type": "code",
   "execution_count": 5,
   "id": "8e235ab6",
   "metadata": {},
   "outputs": [],
   "source": [
    "def game_instructions():\n",
    "    print(\"You will pick either 'Rock', 'Paper', or 'Scissors'.\")\n",
    "    print(\"Scissors beats Paper.\\nRock beats Scissors.\\nPaper beats Rock\\\\n\\nNow enjoy!\")"
   ]
  },
  {
   "cell_type": "code",
   "execution_count": 6,
   "id": "ab929b89",
   "metadata": {},
   "outputs": [
    {
     "name": "stdout",
     "output_type": "stream",
     "text": [
      "You will pick either 'Rock', 'Paper', or 'Scissors'.\n",
      "Scissors beats Paper.\n",
      "Rock beats Scissors.\n",
      "Paper beats Rock\\n\n",
      "Now enjoy!\n"
     ]
    }
   ],
   "source": [
    "game_instructions()"
   ]
  },
  {
   "cell_type": "code",
   "execution_count": 7,
   "id": "21fa59a2",
   "metadata": {},
   "outputs": [],
   "source": [
    "possible_choices = ['rock', 'paper', 'scissors']"
   ]
  },
  {
   "cell_type": "code",
   "execution_count": 16,
   "id": "c7d56b2c",
   "metadata": {},
   "outputs": [
    {
     "name": "stdout",
     "output_type": "stream",
     "text": [
      "Choose either 'rock', 'paper' or 'scissors': rock\n",
      "You lost!\n",
      "Would you like to continue? y/n :y\n",
      "Choose either 'rock', 'paper' or 'scissors': rock\n",
      "You lost!\n",
      "Would you like to continue? y/n :y\n",
      "Choose either 'rock', 'paper' or 'scissors': rock\n",
      "You lost!\n",
      "Would you like to continue? y/n :y\n",
      "Choose either 'rock', 'paper' or 'scissors': rock\n",
      "You lost!\n",
      "Would you like to continue? y/n :y\n",
      "Choose either 'rock', 'paper' or 'scissors': rock\n",
      "You lost!\n",
      "Would you like to continue? y/n :y\n",
      "Choose either 'rock', 'paper' or 'scissors': rock\n",
      "You won!\n",
      "Would you like to continue? y/n :y\n",
      "Choose either 'rock', 'paper' or 'scissors': rock\n",
      "You won!\n",
      "Would you like to continue? y/n :n\n",
      "Your score is 2 and the opponent's score is 5!\n"
     ]
    }
   ],
   "source": [
    "player_score = 0\n",
    "computer_score = 0\n",
    "\n",
    "while True:\n",
    "    player_choice = input(\"Choose either 'rock', 'paper' or 'scissors': \")\n",
    "    computer_choice = random.choice(possible_choices)\n",
    "    if player_choice == computer_choice:\n",
    "        print(\"It's a tie!\")\n",
    "    elif player_choice == 'rock':\n",
    "        if computer_choice =='paper':\n",
    "            print(\"You lost!\")\n",
    "            computer_score += 1\n",
    "        else:\n",
    "            print(\"You won!\")\n",
    "            player_score += 1\n",
    "    elif player_choice == 'paper':\n",
    "        if computer_choice == 'scissors':\n",
    "            print(\"You lost!\")\n",
    "            computer_score += 1\n",
    "        else:\n",
    "            print(\"You won!\")\n",
    "            player_score += 1\n",
    "    elif player_choice == 'scissors':\n",
    "        if computer_choice == 'rock':\n",
    "            print(\"You lost!\")\n",
    "            computer_score += 1\n",
    "        else:\n",
    "            print(\"You won!\")\n",
    "            player_score += 1\n",
    "    resume_game = input(\"Would you like to continue? y/n :\")\n",
    "    if (resume_game == 'y'):\n",
    "        continue\n",
    "    else:\n",
    "        print(f\"Your score is {player_score} and the opponent's score is {computer_score}!\")\n",
    "        player_score = 0\n",
    "        computer_score = 0\n",
    "        break\n"
   ]
  },
  {
   "cell_type": "code",
   "execution_count": null,
   "id": "de072703",
   "metadata": {},
   "outputs": [],
   "source": []
  }
 ],
 "metadata": {
  "kernelspec": {
   "display_name": "Python 3",
   "language": "python",
   "name": "python3"
  },
  "language_info": {
   "codemirror_mode": {
    "name": "ipython",
    "version": 3
   },
   "file_extension": ".py",
   "mimetype": "text/x-python",
   "name": "python",
   "nbconvert_exporter": "python",
   "pygments_lexer": "ipython3",
   "version": "3.8.8"
  }
 },
 "nbformat": 4,
 "nbformat_minor": 5
}
