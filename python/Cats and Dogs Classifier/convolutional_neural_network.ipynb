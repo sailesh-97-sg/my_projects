{
 "cells": [
  {
   "cell_type": "markdown",
   "metadata": {
    "id": "3DR-eO17geWu"
   },
   "source": [
    "# Convolutional Neural Network"
   ]
  },
  {
   "cell_type": "markdown",
   "metadata": {
    "id": "EMefrVPCg-60"
   },
   "source": [
    "### Importing the libraries"
   ]
  },
  {
   "cell_type": "code",
   "execution_count": 3,
   "metadata": {
    "id": "_p1B2r5qCaXM"
   },
   "outputs": [],
   "source": [
    "import tensorflow as tf\n",
    "from keras.preprocessing.image import ImageDataGenerator\n",
    "from keras.preprocessing.image import load_img\n",
    "from keras.preprocessing.image import img_to_array\n",
    "from flask import Flask"
   ]
  },
  {
   "cell_type": "code",
   "execution_count": 4,
   "metadata": {
    "colab": {
     "base_uri": "https://localhost:8080/",
     "height": 36
    },
    "id": "YQQ63PYdCtyB",
    "outputId": "77dedc56-ae56-467d-e825-04003bd5e1eb"
   },
   "outputs": [
    {
     "data": {
      "text/plain": [
       "'2.6.0'"
      ]
     },
     "execution_count": 4,
     "metadata": {},
     "output_type": "execute_result"
    }
   ],
   "source": [
    "tf.__version__"
   ]
  },
  {
   "cell_type": "markdown",
   "metadata": {
    "id": "oxQxCBWyoGPE"
   },
   "source": [
    "## Part 1 - Data Preprocessing"
   ]
  },
  {
   "cell_type": "markdown",
   "metadata": {
    "id": "MvE-heJNo3GG"
   },
   "source": [
    "### Preprocessing the Training set"
   ]
  },
  {
   "cell_type": "code",
   "execution_count": 5,
   "metadata": {
    "id": "Odst3Da6C6GV"
   },
   "outputs": [
    {
     "name": "stdout",
     "output_type": "stream",
     "text": [
      "Found 8000 images belonging to 2 classes.\n"
     ]
    }
   ],
   "source": [
    "train_datagen = ImageDataGenerator(\n",
    "        rescale=1./255,\n",
    "        shear_range=0.2,\n",
    "        zoom_range=0.2,\n",
    "        horizontal_flip=True)\n",
    "training_set = train_datagen.flow_from_directory(\n",
    "        'dataset/training_set',  # this is the target directory\n",
    "        target_size=(64, 64),  # all images will be resized to 150x150\n",
    "        batch_size=32,\n",
    "        class_mode='binary')  # since we use binary_crossentropy loss, we need binary labels\n"
   ]
  },
  {
   "cell_type": "markdown",
   "metadata": {
    "id": "mrCMmGw9pHys"
   },
   "source": [
    "### Preprocessing the Test set"
   ]
  },
  {
   "cell_type": "code",
   "execution_count": 6,
   "metadata": {
    "id": "FtsjwaaCC6gg"
   },
   "outputs": [
    {
     "name": "stdout",
     "output_type": "stream",
     "text": [
      "Found 2000 images belonging to 2 classes.\n"
     ]
    }
   ],
   "source": [
    "test_datagen = ImageDataGenerator(rescale=1./255)\n",
    "test_set = test_datagen.flow_from_directory(\n",
    "        'dataset/test_set',\n",
    "        target_size=(64, 64),\n",
    "        batch_size=32,\n",
    "        class_mode='binary')"
   ]
  },
  {
   "cell_type": "markdown",
   "metadata": {
    "id": "af8O4l90gk7B"
   },
   "source": [
    "## Part 2 - Building the CNN"
   ]
  },
  {
   "cell_type": "code",
   "execution_count": 7,
   "metadata": {
    "id": "EIJUV57DE78G"
   },
   "outputs": [],
   "source": [
    "cnn = tf.keras.models.Sequential()"
   ]
  },
  {
   "cell_type": "code",
   "execution_count": 8,
   "metadata": {
    "id": "Jf4o-OZeE8-W"
   },
   "outputs": [],
   "source": [
    "cnn.add(tf.keras.layers.Conv2D(filters=32,kernel_size=3, activation='relu', input_shape=[64,64,3]))"
   ]
  },
  {
   "cell_type": "code",
   "execution_count": 9,
   "metadata": {
    "id": "b7VAM7-sGMB6"
   },
   "outputs": [],
   "source": [
    "cnn.add(tf.keras.layers.MaxPool2D(pool_size=2, strides=2))"
   ]
  },
  {
   "cell_type": "code",
   "execution_count": 10,
   "metadata": {
    "id": "NK2wGM3oHdKL"
   },
   "outputs": [],
   "source": [
    "cnn.add(tf.keras.layers.Conv2D(filters=32,kernel_size=3, activation='relu'))\n",
    "cnn.add(tf.keras.layers.MaxPool2D(pool_size=2, strides=2))"
   ]
  },
  {
   "cell_type": "code",
   "execution_count": 11,
   "metadata": {
    "id": "jJtATKVbHqoZ"
   },
   "outputs": [],
   "source": [
    "cnn.add(tf.keras.layers.Flatten())"
   ]
  },
  {
   "cell_type": "code",
   "execution_count": 12,
   "metadata": {
    "id": "WCJOpwjsH-Wq"
   },
   "outputs": [],
   "source": [
    "cnn.add(tf.keras.layers.Dense(units=128, activation='relu'))"
   ]
  },
  {
   "cell_type": "code",
   "execution_count": 13,
   "metadata": {
    "id": "ekwlUt3GH_NM"
   },
   "outputs": [],
   "source": [
    "cnn.add(tf.keras.layers.Dense(units=1,activation='sigmoid'))"
   ]
  },
  {
   "cell_type": "markdown",
   "metadata": {
    "id": "D6XkI90snSDl"
   },
   "source": [
    "## Part 3 - Training the CNN"
   ]
  },
  {
   "cell_type": "code",
   "execution_count": 14,
   "metadata": {
    "id": "WCH-_ecTKD3s"
   },
   "outputs": [],
   "source": [
    "cnn.compile(optimizer = 'adam', loss = 'binary_crossentropy', metrics = ['accuracy'])"
   ]
  },
  {
   "cell_type": "code",
   "execution_count": 18,
   "metadata": {
    "id": "nlqBGZJTKjgm"
   },
   "outputs": [
    {
     "name": "stdout",
     "output_type": "stream",
     "text": [
      "Epoch 1/25\n",
      "250/250 [==============================] - 40s 162ms/step - loss: 0.6415 - accuracy: 0.6349 - val_loss: 0.6321 - val_accuracy: 0.6655\n",
      "Epoch 2/25\n",
      "250/250 [==============================] - 50s 200ms/step - loss: 0.5911 - accuracy: 0.6881 - val_loss: 0.5530 - val_accuracy: 0.7295\n",
      "Epoch 3/25\n",
      "250/250 [==============================] - 39s 157ms/step - loss: 0.5552 - accuracy: 0.7184 - val_loss: 0.5220 - val_accuracy: 0.7430\n",
      "Epoch 4/25\n",
      "250/250 [==============================] - 41s 166ms/step - loss: 0.5182 - accuracy: 0.7405 - val_loss: 0.5037 - val_accuracy: 0.7545\n",
      "Epoch 5/25\n",
      "250/250 [==============================] - 43s 172ms/step - loss: 0.5031 - accuracy: 0.7538 - val_loss: 0.5038 - val_accuracy: 0.7650\n",
      "Epoch 6/25\n",
      "250/250 [==============================] - 38s 153ms/step - loss: 0.4887 - accuracy: 0.7656 - val_loss: 0.5111 - val_accuracy: 0.7600\n",
      "Epoch 7/25\n",
      "250/250 [==============================] - 42s 169ms/step - loss: 0.4716 - accuracy: 0.7695 - val_loss: 0.4763 - val_accuracy: 0.7790\n",
      "Epoch 8/25\n",
      "250/250 [==============================] - 43s 174ms/step - loss: 0.4562 - accuracy: 0.7847 - val_loss: 0.4655 - val_accuracy: 0.7845\n",
      "Epoch 9/25\n",
      "250/250 [==============================] - 45s 180ms/step - loss: 0.4538 - accuracy: 0.7809 - val_loss: 0.4911 - val_accuracy: 0.7660\n",
      "Epoch 10/25\n",
      "250/250 [==============================] - 46s 184ms/step - loss: 0.4428 - accuracy: 0.7914 - val_loss: 0.4821 - val_accuracy: 0.7915\n",
      "Epoch 11/25\n",
      "250/250 [==============================] - 46s 182ms/step - loss: 0.4252 - accuracy: 0.8010 - val_loss: 0.4870 - val_accuracy: 0.7810\n",
      "Epoch 12/25\n",
      "250/250 [==============================] - 52s 208ms/step - loss: 0.4207 - accuracy: 0.8039 - val_loss: 0.4613 - val_accuracy: 0.7980\n",
      "Epoch 13/25\n",
      "250/250 [==============================] - 41s 166ms/step - loss: 0.4128 - accuracy: 0.8102 - val_loss: 0.4500 - val_accuracy: 0.8045\n",
      "Epoch 14/25\n",
      "250/250 [==============================] - 46s 185ms/step - loss: 0.3960 - accuracy: 0.8216 - val_loss: 0.4312 - val_accuracy: 0.8140\n",
      "Epoch 15/25\n",
      "250/250 [==============================] - 39s 155ms/step - loss: 0.4052 - accuracy: 0.8126 - val_loss: 0.4740 - val_accuracy: 0.7855\n",
      "Epoch 16/25\n",
      "250/250 [==============================] - 38s 153ms/step - loss: 0.3838 - accuracy: 0.8238 - val_loss: 0.4362 - val_accuracy: 0.8120\n",
      "Epoch 17/25\n",
      "250/250 [==============================] - 38s 152ms/step - loss: 0.3728 - accuracy: 0.8372 - val_loss: 0.4479 - val_accuracy: 0.8055\n",
      "Epoch 18/25\n",
      "250/250 [==============================] - 49s 195ms/step - loss: 0.3710 - accuracy: 0.8322 - val_loss: 0.4733 - val_accuracy: 0.8000\n",
      "Epoch 19/25\n",
      "250/250 [==============================] - 45s 181ms/step - loss: 0.3607 - accuracy: 0.8375 - val_loss: 0.4737 - val_accuracy: 0.7885\n",
      "Epoch 20/25\n",
      "250/250 [==============================] - 43s 171ms/step - loss: 0.3460 - accuracy: 0.8428 - val_loss: 0.4538 - val_accuracy: 0.8020\n",
      "Epoch 21/25\n",
      "250/250 [==============================] - 47s 187ms/step - loss: 0.3476 - accuracy: 0.8497 - val_loss: 0.4730 - val_accuracy: 0.7990\n",
      "Epoch 22/25\n",
      "250/250 [==============================] - 48s 191ms/step - loss: 0.3324 - accuracy: 0.8535 - val_loss: 0.4671 - val_accuracy: 0.8115\n",
      "Epoch 23/25\n",
      "250/250 [==============================] - 50s 200ms/step - loss: 0.3294 - accuracy: 0.8553 - val_loss: 0.4750 - val_accuracy: 0.8000\n",
      "Epoch 24/25\n",
      "250/250 [==============================] - 45s 179ms/step - loss: 0.3199 - accuracy: 0.8601 - val_loss: 0.4560 - val_accuracy: 0.8180\n",
      "Epoch 25/25\n",
      "250/250 [==============================] - 35s 139ms/step - loss: 0.3143 - accuracy: 0.8651 - val_loss: 0.4391 - val_accuracy: 0.8135\n"
     ]
    },
    {
     "data": {
      "text/plain": [
       "<keras.callbacks.History at 0x240901c9130>"
      ]
     },
     "execution_count": 18,
     "metadata": {},
     "output_type": "execute_result"
    }
   ],
   "source": [
    "cnn.fit(x = training_set, validation_data = test_set, epochs = 25)"
   ]
  },
  {
   "cell_type": "markdown",
   "metadata": {
    "id": "U3PZasO0006Z"
   },
   "source": [
    "## Part 4 - Making a single prediction"
   ]
  },
  {
   "cell_type": "code",
   "execution_count": 19,
   "metadata": {
    "id": "2Z3I_vhjLeH7"
   },
   "outputs": [],
   "source": [
    "import numpy as np\n",
    "from keras.preprocessing import image\n",
    "test_image = image.load_img('dataset/single_prediction/cat_or_dog_2.jpg', target_size = (64, 64))\n",
    "test_image = image.img_to_array(test_image)\n",
    "test_image = np.expand_dims(test_image, axis=0)\n",
    "result = cnn.predict(test_image)\n",
    "training_set.class_indices\n",
    "if result[0][0] > 0.5:\n",
    "  classification = 'dog'\n",
    "else:\n",
    "  classification = 'cat'\n",
    "  "
   ]
  },
  {
   "cell_type": "code",
   "execution_count": 20,
   "metadata": {
    "id": "-jRDCtT5R5Hf"
   },
   "outputs": [
    {
     "name": "stdout",
     "output_type": "stream",
     "text": [
      "cat\n"
     ]
    }
   ],
   "source": [
    "print(classification)"
   ]
  },
  {
   "cell_type": "code",
   "execution_count": 21,
   "metadata": {},
   "outputs": [],
   "source": [
    "cnn.save(\"model.hdf5\")"
   ]
  },
  {
   "cell_type": "code",
   "execution_count": null,
   "metadata": {},
   "outputs": [],
   "source": []
  }
 ],
 "metadata": {
  "colab": {
   "collapsed_sections": [],
   "name": "convolutional_neural_network.ipynb",
   "provenance": [],
   "toc_visible": true
  },
  "kernelspec": {
   "display_name": "Python 3",
   "language": "python",
   "name": "python3"
  },
  "language_info": {
   "codemirror_mode": {
    "name": "ipython",
    "version": 3
   },
   "file_extension": ".py",
   "mimetype": "text/x-python",
   "name": "python",
   "nbconvert_exporter": "python",
   "pygments_lexer": "ipython3",
   "version": "3.8.8"
  }
 },
 "nbformat": 4,
 "nbformat_minor": 1
}
